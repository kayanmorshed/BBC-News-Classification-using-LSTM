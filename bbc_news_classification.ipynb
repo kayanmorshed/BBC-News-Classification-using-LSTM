{
  "nbformat": 4,
  "nbformat_minor": 0,
  "metadata": {
    "colab": {
      "provenance": [],
      "authorship_tag": "ABX9TyNoccKIBffhsJASBasarQgX",
      "include_colab_link": true
    },
    "kernelspec": {
      "name": "python3",
      "display_name": "Python 3"
    },
    "language_info": {
      "name": "python"
    }
  },
  "cells": [
    {
      "cell_type": "markdown",
      "metadata": {
        "id": "view-in-github",
        "colab_type": "text"
      },
      "source": [
        "<a href=\"https://colab.research.google.com/github/kayanmorshed/BBC-News-Classification-using-LSTM/blob/main/bbc_news_classification.ipynb\" target=\"_parent\"><img src=\"https://colab.research.google.com/assets/colab-badge.svg\" alt=\"Open In Colab\"/></a>"
      ]
    },
    {
      "cell_type": "markdown",
      "source": [
        "## Importing necessary libraries"
      ],
      "metadata": {
        "id": "I8ZHWaL8_txq"
      }
    },
    {
      "cell_type": "code",
      "execution_count": 2,
      "metadata": {
        "id": "DgeNIgAm_oll"
      },
      "outputs": [],
      "source": [
        "import os\n",
        "import csv\n",
        "import tensorflow as tf\n",
        "import numpy as np\n",
        "from tensorflow.keras.preprocessing.text import Tokenizer\n",
        "from tensorflow.keras.preprocessing.sequence import pad_sequences\n",
        "import matplotlib.pyplot as plt"
      ]
    },
    {
      "cell_type": "markdown",
      "source": [
        "## Downloading dataset\n",
        "\n",
        "First, we download the [BBC News Classification](https://www.kaggle.com/competitions/learn-ai-bbc/data) dataset from Kaggle. Prior to the downloading process, we must ensure that Kaggle is installed in our Colab environment, and we keep `kaggle.json` in the `~/.kaggle/` directory."
      ],
      "metadata": {
        "id": "5dK9cQog__yo"
      }
    },
    {
      "cell_type": "code",
      "source": [
        "! pip install -q kaggle # install kaggle in colab\n",
        "!rm -r ~/.kaggle # remove any existing .kaggle directory\n",
        "!mkdir ~/.kaggle # create a new .kaggle directory"
      ],
      "metadata": {
        "id": "jer35nKJAHyL"
      },
      "execution_count": 3,
      "outputs": []
    },
    {
      "cell_type": "markdown",
      "source": [
        "After creating the `~/.kaggle/` directory, we upload the `kaggle.json` file downloaded from the Kaggle user account."
      ],
      "metadata": {
        "id": "Kq4sbjIEA-sy"
      }
    },
    {
      "cell_type": "code",
      "source": [
        "from google.colab import files\n",
        "files.upload()"
      ],
      "metadata": {
        "colab": {
          "base_uri": "https://localhost:8080/",
          "height": 92
        },
        "id": "frJPUGzvBBvn",
        "outputId": "0dbd009b-de05-416f-84d8-682a7c699445"
      },
      "execution_count": 4,
      "outputs": [
        {
          "output_type": "display_data",
          "data": {
            "text/plain": [
              "<IPython.core.display.HTML object>"
            ],
            "text/html": [
              "\n",
              "     <input type=\"file\" id=\"files-e5cd7075-a8d7-465e-8728-734adce2d426\" name=\"files[]\" multiple disabled\n",
              "        style=\"border:none\" />\n",
              "     <output id=\"result-e5cd7075-a8d7-465e-8728-734adce2d426\">\n",
              "      Upload widget is only available when the cell has been executed in the\n",
              "      current browser session. Please rerun this cell to enable.\n",
              "      </output>\n",
              "      <script>// Copyright 2017 Google LLC\n",
              "//\n",
              "// Licensed under the Apache License, Version 2.0 (the \"License\");\n",
              "// you may not use this file except in compliance with the License.\n",
              "// You may obtain a copy of the License at\n",
              "//\n",
              "//      http://www.apache.org/licenses/LICENSE-2.0\n",
              "//\n",
              "// Unless required by applicable law or agreed to in writing, software\n",
              "// distributed under the License is distributed on an \"AS IS\" BASIS,\n",
              "// WITHOUT WARRANTIES OR CONDITIONS OF ANY KIND, either express or implied.\n",
              "// See the License for the specific language governing permissions and\n",
              "// limitations under the License.\n",
              "\n",
              "/**\n",
              " * @fileoverview Helpers for google.colab Python module.\n",
              " */\n",
              "(function(scope) {\n",
              "function span(text, styleAttributes = {}) {\n",
              "  const element = document.createElement('span');\n",
              "  element.textContent = text;\n",
              "  for (const key of Object.keys(styleAttributes)) {\n",
              "    element.style[key] = styleAttributes[key];\n",
              "  }\n",
              "  return element;\n",
              "}\n",
              "\n",
              "// Max number of bytes which will be uploaded at a time.\n",
              "const MAX_PAYLOAD_SIZE = 100 * 1024;\n",
              "\n",
              "function _uploadFiles(inputId, outputId) {\n",
              "  const steps = uploadFilesStep(inputId, outputId);\n",
              "  const outputElement = document.getElementById(outputId);\n",
              "  // Cache steps on the outputElement to make it available for the next call\n",
              "  // to uploadFilesContinue from Python.\n",
              "  outputElement.steps = steps;\n",
              "\n",
              "  return _uploadFilesContinue(outputId);\n",
              "}\n",
              "\n",
              "// This is roughly an async generator (not supported in the browser yet),\n",
              "// where there are multiple asynchronous steps and the Python side is going\n",
              "// to poll for completion of each step.\n",
              "// This uses a Promise to block the python side on completion of each step,\n",
              "// then passes the result of the previous step as the input to the next step.\n",
              "function _uploadFilesContinue(outputId) {\n",
              "  const outputElement = document.getElementById(outputId);\n",
              "  const steps = outputElement.steps;\n",
              "\n",
              "  const next = steps.next(outputElement.lastPromiseValue);\n",
              "  return Promise.resolve(next.value.promise).then((value) => {\n",
              "    // Cache the last promise value to make it available to the next\n",
              "    // step of the generator.\n",
              "    outputElement.lastPromiseValue = value;\n",
              "    return next.value.response;\n",
              "  });\n",
              "}\n",
              "\n",
              "/**\n",
              " * Generator function which is called between each async step of the upload\n",
              " * process.\n",
              " * @param {string} inputId Element ID of the input file picker element.\n",
              " * @param {string} outputId Element ID of the output display.\n",
              " * @return {!Iterable<!Object>} Iterable of next steps.\n",
              " */\n",
              "function* uploadFilesStep(inputId, outputId) {\n",
              "  const inputElement = document.getElementById(inputId);\n",
              "  inputElement.disabled = false;\n",
              "\n",
              "  const outputElement = document.getElementById(outputId);\n",
              "  outputElement.innerHTML = '';\n",
              "\n",
              "  const pickedPromise = new Promise((resolve) => {\n",
              "    inputElement.addEventListener('change', (e) => {\n",
              "      resolve(e.target.files);\n",
              "    });\n",
              "  });\n",
              "\n",
              "  const cancel = document.createElement('button');\n",
              "  inputElement.parentElement.appendChild(cancel);\n",
              "  cancel.textContent = 'Cancel upload';\n",
              "  const cancelPromise = new Promise((resolve) => {\n",
              "    cancel.onclick = () => {\n",
              "      resolve(null);\n",
              "    };\n",
              "  });\n",
              "\n",
              "  // Wait for the user to pick the files.\n",
              "  const files = yield {\n",
              "    promise: Promise.race([pickedPromise, cancelPromise]),\n",
              "    response: {\n",
              "      action: 'starting',\n",
              "    }\n",
              "  };\n",
              "\n",
              "  cancel.remove();\n",
              "\n",
              "  // Disable the input element since further picks are not allowed.\n",
              "  inputElement.disabled = true;\n",
              "\n",
              "  if (!files) {\n",
              "    return {\n",
              "      response: {\n",
              "        action: 'complete',\n",
              "      }\n",
              "    };\n",
              "  }\n",
              "\n",
              "  for (const file of files) {\n",
              "    const li = document.createElement('li');\n",
              "    li.append(span(file.name, {fontWeight: 'bold'}));\n",
              "    li.append(span(\n",
              "        `(${file.type || 'n/a'}) - ${file.size} bytes, ` +\n",
              "        `last modified: ${\n",
              "            file.lastModifiedDate ? file.lastModifiedDate.toLocaleDateString() :\n",
              "                                    'n/a'} - `));\n",
              "    const percent = span('0% done');\n",
              "    li.appendChild(percent);\n",
              "\n",
              "    outputElement.appendChild(li);\n",
              "\n",
              "    const fileDataPromise = new Promise((resolve) => {\n",
              "      const reader = new FileReader();\n",
              "      reader.onload = (e) => {\n",
              "        resolve(e.target.result);\n",
              "      };\n",
              "      reader.readAsArrayBuffer(file);\n",
              "    });\n",
              "    // Wait for the data to be ready.\n",
              "    let fileData = yield {\n",
              "      promise: fileDataPromise,\n",
              "      response: {\n",
              "        action: 'continue',\n",
              "      }\n",
              "    };\n",
              "\n",
              "    // Use a chunked sending to avoid message size limits. See b/62115660.\n",
              "    let position = 0;\n",
              "    do {\n",
              "      const length = Math.min(fileData.byteLength - position, MAX_PAYLOAD_SIZE);\n",
              "      const chunk = new Uint8Array(fileData, position, length);\n",
              "      position += length;\n",
              "\n",
              "      const base64 = btoa(String.fromCharCode.apply(null, chunk));\n",
              "      yield {\n",
              "        response: {\n",
              "          action: 'append',\n",
              "          file: file.name,\n",
              "          data: base64,\n",
              "        },\n",
              "      };\n",
              "\n",
              "      let percentDone = fileData.byteLength === 0 ?\n",
              "          100 :\n",
              "          Math.round((position / fileData.byteLength) * 100);\n",
              "      percent.textContent = `${percentDone}% done`;\n",
              "\n",
              "    } while (position < fileData.byteLength);\n",
              "  }\n",
              "\n",
              "  // All done.\n",
              "  yield {\n",
              "    response: {\n",
              "      action: 'complete',\n",
              "    }\n",
              "  };\n",
              "}\n",
              "\n",
              "scope.google = scope.google || {};\n",
              "scope.google.colab = scope.google.colab || {};\n",
              "scope.google.colab._files = {\n",
              "  _uploadFiles,\n",
              "  _uploadFilesContinue,\n",
              "};\n",
              "})(self);\n",
              "</script> "
            ]
          },
          "metadata": {}
        },
        {
          "output_type": "stream",
          "name": "stdout",
          "text": [
            "Saving kaggle.json to kaggle.json\n"
          ]
        },
        {
          "output_type": "execute_result",
          "data": {
            "text/plain": [
              "{'kaggle.json': b'{\"username\":\"morshedalam\",\"key\":\"4d20c1435493d2f8c220f54ffbdc01fb\"}'}"
            ]
          },
          "metadata": {},
          "execution_count": 4
        }
      ]
    },
    {
      "cell_type": "markdown",
      "source": [
        "And move the `kaggle.json` file into the `~/.kaggle` directory."
      ],
      "metadata": {
        "id": "XA21QpnKBXec"
      }
    },
    {
      "cell_type": "code",
      "source": [
        "!mv ./kaggle.json ~/.kaggle/ # move the kaggle.json file to the newly created directory\n",
        "!chmod 600 ~/.kaggle/kaggle.json # change permnission\n",
        "!ls -l ~/.kaggle/kaggle.json"
      ],
      "metadata": {
        "colab": {
          "base_uri": "https://localhost:8080/"
        },
        "id": "XFOfoUqnBYE7",
        "outputId": "8fd6ee86-21f7-4a6e-e3c2-ecb4686f3060"
      },
      "execution_count": 5,
      "outputs": [
        {
          "output_type": "stream",
          "name": "stdout",
          "text": [
            "-rw------- 1 root root 67 May  4 21:09 /root/.kaggle/kaggle.json\n"
          ]
        }
      ]
    },
    {
      "cell_type": "markdown",
      "source": [
        "Now, we have everything in place to start downloading the dataset."
      ],
      "metadata": {
        "id": "Zq8k49kJBc9p"
      }
    },
    {
      "cell_type": "code",
      "source": [
        "# download the compressed dataset\n",
        "!kaggle competitions download -c learn-ai-bbc"
      ],
      "metadata": {
        "colab": {
          "base_uri": "https://localhost:8080/"
        },
        "id": "1y8LbJ-tBfFR",
        "outputId": "a1e7899c-e18d-4239-f9bb-452fab99ea0f"
      },
      "execution_count": 6,
      "outputs": [
        {
          "output_type": "stream",
          "name": "stdout",
          "text": [
            "Downloading learn-ai-bbc.zip to /content\n",
            "\r  0% 0.00/1.85M [00:00<?, ?B/s]\n",
            "\r100% 1.85M/1.85M [00:00<00:00, 96.5MB/s]\n"
          ]
        }
      ]
    },
    {
      "cell_type": "markdown",
      "source": [
        "## Unzipping dataset files\n",
        "\n",
        "We plan to create a `data` directory before we start unzipping the dataset files. The following code shows the whole unzipping process. "
      ],
      "metadata": {
        "id": "AQ7hJ4_PB7Q9"
      }
    },
    {
      "cell_type": "code",
      "source": [
        "# create a 'data' directory inside \"/content/\"\n",
        "!mkdir /content/data\n",
        "\n",
        "# remove the zip file after unzipping the files in the 'data' directory\n",
        "!unzip -q /content/learn-ai-bbc.zip -d /content/data/ \n",
        "!rm -r /content/learn-ai-bbc.zip "
      ],
      "metadata": {
        "id": "HOJgzrEyB-Q_",
        "colab": {
          "base_uri": "https://localhost:8080/"
        },
        "outputId": "61287811-0408-40ea-bb4f-7a901a10105f"
      },
      "execution_count": 7,
      "outputs": [
        {
          "output_type": "stream",
          "name": "stdout",
          "text": [
            "mkdir: cannot create directory ‘/content/data’: File exists\n"
          ]
        }
      ]
    },
    {
      "cell_type": "markdown",
      "source": [
        "Let's check what is inside the `data` directory."
      ],
      "metadata": {
        "id": "67hD2SLrCk-m"
      }
    },
    {
      "cell_type": "code",
      "source": [
        "os.listdir('/content/data/')"
      ],
      "metadata": {
        "colab": {
          "base_uri": "https://localhost:8080/"
        },
        "id": "7pPzmLYSClUc",
        "outputId": "cc65ffb6-42ad-4d6e-ea7b-325f50306cba"
      },
      "execution_count": 8,
      "outputs": [
        {
          "output_type": "execute_result",
          "data": {
            "text/plain": [
              "['BBC News Train.csv',\n",
              " 'BBC News Sample Solution.csv',\n",
              " '.ipynb_checkpoints',\n",
              " 'BBC News Test.csv']"
            ]
          },
          "metadata": {},
          "execution_count": 8
        }
      ]
    },
    {
      "cell_type": "markdown",
      "source": [
        "As we can see, the dataset contains a `train` data file named `BBC News Train.csv` and a `test` data file named `BBC News Test.csv`. \n",
        "\n",
        "Now, let's check the structure of both `train` and `test` data file."
      ],
      "metadata": {
        "id": "m0enWIKxDQ2A"
      }
    },
    {
      "cell_type": "code",
      "source": [
        "# Checking training data\n",
        "with open(\"/content/data/BBC News Train.csv\", 'r') as csvfile:\n",
        "    print(f\"CSV header:\\n {csvfile.readline()}\")\n",
        "    print(f\"First data point:\\n {csvfile.readline()}\")"
      ],
      "metadata": {
        "colab": {
          "base_uri": "https://localhost:8080/"
        },
        "id": "6kcOvtTXD-97",
        "outputId": "7127c6d5-f551-4479-b0c4-01b69239a749"
      },
      "execution_count": 9,
      "outputs": [
        {
          "output_type": "stream",
          "name": "stdout",
          "text": [
            "CSV header:\n",
            " ArticleId,Text,Category\n",
            "\n",
            "First data point:\n",
            " 1833,worldcom ex-boss launches defence lawyers defending former worldcom chief bernie ebbers against a battery of fraud charges have called a company whistleblower as their first witness.  cynthia cooper  worldcom s ex-head of internal accounting  alerted directors to irregular accounting practices at the us telecoms giant in 2002. her warnings led to the collapse of the firm following the discovery of an $11bn (£5.7bn) accounting fraud. mr ebbers has pleaded not guilty to charges of fraud and conspiracy.  prosecution lawyers have argued that mr ebbers orchestrated a series of accounting tricks at worldcom  ordering employees to hide expenses and inflate revenues to meet wall street earnings estimates. but ms cooper  who now runs her own consulting business  told a jury in new york on wednesday that external auditors arthur andersen had approved worldcom s accounting in early 2001 and 2002. she said andersen had given a  green light  to the procedures and practices used by worldcom. mr ebber s lawyers have said he was unaware of the fraud  arguing that auditors did not alert him to any problems.  ms cooper also said that during shareholder meetings mr ebbers often passed over technical questions to the company s finance chief  giving only  brief  answers himself. the prosecution s star witness  former worldcom financial chief scott sullivan  has said that mr ebbers ordered accounting adjustments at the firm  telling him to  hit our books . however  ms cooper said mr sullivan had not mentioned  anything uncomfortable  about worldcom s accounting during a 2001 audit committee meeting. mr ebbers could face a jail sentence of 85 years if convicted of all the charges he is facing. worldcom emerged from bankruptcy protection in 2004  and is now known as mci. last week  mci agreed to a buyout by verizon communications in a deal valued at $6.75bn.,business\n",
            "\n"
          ]
        }
      ]
    },
    {
      "cell_type": "code",
      "source": [
        "# Checking testing data\n",
        "with open(\"/content/data/BBC News Test.csv\", 'r') as csvfile:\n",
        "    print(f\"CSV header:\\n {csvfile.readline()}\")\n",
        "    print(f\"First data point:\\n {csvfile.readline()}\")"
      ],
      "metadata": {
        "colab": {
          "base_uri": "https://localhost:8080/"
        },
        "id": "18B7kCMFFB9Y",
        "outputId": "e70e7562-797b-479b-c067-fda70cc4aa57"
      },
      "execution_count": 10,
      "outputs": [
        {
          "output_type": "stream",
          "name": "stdout",
          "text": [
            "CSV header:\n",
            " ArticleId,Text\n",
            "\n",
            "First data point:\n",
            " 1018,qpr keeper day heads for preston queens park rangers keeper chris day is set to join preston on a month s loan.  day has been displaced by the arrival of simon royce  who is in his second month on loan from charlton. qpr have also signed italian generoso rossi. r s manager ian holloway said:  some might say it s a risk as he can t be recalled during that month and simon royce can now be recalled by charlton.  but i have other irons in the fire. i have had a  yes  from a couple of others should i need them.   day s rangers contract expires in the summer. meanwhile  holloway is hoping to complete the signing of middlesbrough defender andy davies - either permanently or again on loan - before saturday s match at ipswich. davies impressed during a recent loan spell at loftus road. holloway is also chasing bristol city midfielder tom doherty.\n",
            "\n"
          ]
        }
      ]
    },
    {
      "cell_type": "markdown",
      "source": [
        "As you can see, each data point in the training set is composed of:\n",
        "\n",
        "1. an `ArticleId`\n",
        "2. the `Text` of the news article, and\n",
        "3. the `Category` of the article.\n",
        "\n",
        "And they are separated by commas. \n",
        "\n",
        "The `testing` set, however doesn't have any `Category` feature, and it's our job is to determine the most likely category of a given a article from the `test` dataset."
      ],
      "metadata": {
        "id": "SP27F61LFFnt"
      }
    },
    {
      "cell_type": "markdown",
      "source": [
        "## Setting up hyperparameters \n",
        "\n",
        "Now, let's define some hyperparaters that will be used in data preparation and pre-processing tasks."
      ],
      "metadata": {
        "id": "WIS3CtxxG4aj"
      }
    },
    {
      "cell_type": "code",
      "source": [
        "# the maximum number of words to keep, based on word frequency\n",
        "NUM_WORDS = 1000\n",
        "\n",
        "# dimension of the dense embedding that will be used in the embedding layer of the model\n",
        "EMBEDDING_DIM = 16\n",
        "\n",
        "# maximum length of all sequences\n",
        "MAXLEN = 120\n",
        "\n",
        "# padding strategy \n",
        "PADDING = 'post'\n",
        "\n",
        "# token to replace out-of-vocabulary words during text_to_sequence() calls\n",
        "OOV_TOKEN = \"<OOV>\"\n",
        "\n",
        "# proportion of data used for training\n",
        "TRAINING_SPLIT = .8"
      ],
      "metadata": {
        "id": "ABH_QJQuH14a"
      },
      "execution_count": 11,
      "outputs": []
    },
    {
      "cell_type": "markdown",
      "source": [
        "## Loading and pre-processing data\n",
        "\n",
        "First, let's start with the definiton of the methods to remove stopwords from the training texts."
      ],
      "metadata": {
        "id": "PSSQB9nPItwB"
      }
    },
    {
      "cell_type": "code",
      "source": [
        "def remove_stopwords(sentence):\n",
        "    # list of stopwords\n",
        "    stopwords = [\"a\", \"about\", \"above\", \"after\", \"again\", \"against\", \"all\", \"am\", \"an\", \"and\", \"any\", \"are\", \"as\", \"at\", \"be\", \"because\", \"been\", \"before\", \"being\", \"below\", \"between\", \"both\", \"but\", \"by\", \"could\", \"did\", \"do\", \"does\", \"doing\", \"down\", \"during\", \"each\", \"few\", \"for\", \"from\", \"further\", \"had\", \"has\", \"have\", \"having\", \"he\", \"he'd\", \"he'll\", \"he's\", \"her\", \"here\", \"here's\", \"hers\", \"herself\", \"him\", \"himself\", \"his\", \"how\", \"how's\", \"i\", \"i'd\", \"i'll\", \"i'm\", \"i've\", \"if\", \"in\", \"into\", \"is\", \"it\", \"it's\", \"its\", \"itself\", \"let's\", \"me\", \"more\", \"most\", \"my\", \"myself\", \"nor\", \"of\", \"on\", \"once\", \"only\", \"or\", \"other\", \"ought\", \"our\", \"ours\", \"ourselves\", \"out\", \"over\", \"own\", \"same\", \"she\", \"she'd\", \"she'll\", \"she's\", \"should\", \"so\", \"some\", \"such\", \"than\", \"that\", \"that's\", \"the\", \"their\", \"theirs\", \"them\", \"themselves\", \"then\", \"there\", \"there's\", \"these\", \"they\", \"they'd\", \"they'll\", \"they're\", \"they've\", \"this\", \"those\", \"through\", \"to\", \"too\", \"under\", \"until\", \"up\", \"very\", \"was\", \"we\", \"we'd\", \"we'll\", \"we're\", \"we've\", \"were\", \"what\", \"what's\", \"when\", \"when's\", \"where\", \"where's\", \"which\", \"while\", \"who\", \"who's\", \"whom\", \"why\", \"why's\", \"with\", \"would\", \"you\", \"you'd\", \"you'll\", \"you're\", \"you've\", \"your\", \"yours\", \"yourself\", \"yourselves\" ]\n",
        "    \n",
        "    # sentence converted to lowercase-only\n",
        "    sentence = sentence.lower()\n",
        "\n",
        "    # get all the comma separated words in a list\n",
        "    word_list = sentence.split()\n",
        "\n",
        "    # keep all the words which are not stopwords\n",
        "    words = [w for w in word_list if w not in stopwords]\n",
        "    \n",
        "    # reconstruct sentence after discarding all stopwords\n",
        "    sentence = \" \".join(words)\n",
        "\n",
        "    return sentence"
      ],
      "metadata": {
        "id": "RfR8ZMAtJJTF"
      },
      "execution_count": 12,
      "outputs": []
    },
    {
      "cell_type": "markdown",
      "source": [
        "Now, let's define the `parse_data_from_file()` method to load training dataset and extract texts and corresponding categories. "
      ],
      "metadata": {
        "id": "SfVWSZvPLQoz"
      }
    },
    {
      "cell_type": "code",
      "source": [
        "def parse_data_from_file(filename):\n",
        "    # lists to include sentences and labels separately\n",
        "    sentences = []\n",
        "    labels = []\n",
        "\n",
        "    with open(filename, 'r') as csvfile:\n",
        "        reader = csv.reader(csvfile, delimiter=',')\n",
        "        next(reader) # skipping the header row\n",
        "\n",
        "        for row in reader:\n",
        "            # add the corresponding category of a news article into the 'labels' list\n",
        "            labels.append(row[2])\n",
        "\n",
        "            # add the texts of a news article into the 'sentences' list\n",
        "            sentence = row[1]\n",
        "            sentence = remove_stopwords(sentence)\n",
        "            sentences.append(sentence)\n",
        "\n",
        "    return sentences, labels"
      ],
      "metadata": {
        "id": "Q-6_zp6JLM9X"
      },
      "execution_count": 13,
      "outputs": []
    },
    {
      "cell_type": "markdown",
      "source": [
        "Now, let's call the `parse_data_from_file()` method and check out the detailed information about the training dataset."
      ],
      "metadata": {
        "id": "o-16NoW5L-5G"
      }
    },
    {
      "cell_type": "code",
      "source": [
        "# call the parse_data_from_file() with the path of the training set\n",
        "sentences, labels = parse_data_from_file(\"/content/data/BBC News Train.csv\")\n",
        "\n",
        "print(f\"Number of sentences in the training dataset: {len(sentences)}\\n\")\n",
        "print(f\"Number of words in the 1st sentence (after removing stopwords). {len(sentences[0].split())}\\n\")\n",
        "print(f\"Number of labels in the dataset: {len(labels)}\\n\")\n",
        "print(f\"First 10 labels: {labels[:10]}\")"
      ],
      "metadata": {
        "colab": {
          "base_uri": "https://localhost:8080/"
        },
        "id": "swV6AA1KMX4B",
        "outputId": "ef2f1345-3d2e-4af5-e873-6ee770b4eec2"
      },
      "execution_count": 14,
      "outputs": [
        {
          "output_type": "stream",
          "name": "stdout",
          "text": [
            "Number of sentences in the training dataset: 1490\n",
            "\n",
            "Number of words in the 1st sentence (after removing stopwords). 203\n",
            "\n",
            "Number of labels in the dataset: 1490\n",
            "\n",
            "First 10 labels: ['business', 'business', 'business', 'tech', 'business', 'politics', 'sport', 'entertainment', 'business', 'entertainment']\n"
          ]
        }
      ]
    },
    {
      "cell_type": "markdown",
      "source": [
        "## Train & Validation Split\n",
        "\n",
        "The deep learning model we will use to classify news articles requires the training dataset splitted into: 1) a `train` set, and 2) a `validation` set.\n",
        "\n",
        "Let's define the `train_val_split()` method to split the training dataset into training and validation sentences and labels given a training split size set as `TRAINING_SPLIT` earlier.\n"
      ],
      "metadata": {
        "id": "385BwvPFNZXk"
      }
    },
    {
      "cell_type": "code",
      "source": [
        "def train_val_split(sentences, labels, training_split):\n",
        "    # compute the number (an integer) of sentences that will be used for training\n",
        "    train_size = int(len(sentences) * training_split)\n",
        "\n",
        "    # split the sentences and labels into train/validation splits\n",
        "    train_sentences = sentences[0:train_size]\n",
        "    train_labels = labels[0:train_size]\n",
        "\n",
        "    validation_sentences = sentences[train_size:]\n",
        "    validation_labels = labels[train_size:]\n",
        " \n",
        "    return train_sentences, validation_sentences, train_labels, validation_labels"
      ],
      "metadata": {
        "id": "2DJfxjzjOghG"
      },
      "execution_count": 15,
      "outputs": []
    },
    {
      "cell_type": "markdown",
      "source": [
        "Now, it's time to call the `train_val_split()` method and split the training dataset into train/validation splits."
      ],
      "metadata": {
        "id": "xqcnkfGyO65Z"
      }
    },
    {
      "cell_type": "code",
      "source": [
        "train_sentences, val_sentences, train_labels, val_labels = train_val_split(sentences, labels, TRAINING_SPLIT)\n",
        "\n",
        "print(f\"Number of sentences for training: {len(train_sentences)} \\n\")\n",
        "print(f\"Number of labels for training: {len(train_labels)}\\n\")\n",
        "print(f\"Number of sentences for validation: {len(val_sentences)} \\n\")\n",
        "print(f\"Number of labels for validation: {len(val_labels)}\")"
      ],
      "metadata": {
        "colab": {
          "base_uri": "https://localhost:8080/"
        },
        "id": "VWmEAIg1PLMF",
        "outputId": "42e7d3b6-9cab-48db-c959-35dd902f46e4"
      },
      "execution_count": 16,
      "outputs": [
        {
          "output_type": "stream",
          "name": "stdout",
          "text": [
            "Number of sentences for training: 1192 \n",
            "\n",
            "Number of labels for training: 1192\n",
            "\n",
            "Number of sentences for validation: 298 \n",
            "\n",
            "Number of labels for validation: 298\n"
          ]
        }
      ]
    },
    {
      "cell_type": "markdown",
      "source": [
        "## Tokenization: Sequences and Padding\n",
        "\n",
        "First, we define the `fit_tokenizer()` method to return a `Tokenizer` for us that has been fitted to the training sentences."
      ],
      "metadata": {
        "id": "DKcqfIKXPrwQ"
      }
    },
    {
      "cell_type": "code",
      "source": [
        "def fit_tokenizer(train_sentences, num_words, oov_token):    \n",
        "    # instantiate the Tokenizer class\n",
        "    tokenizer = Tokenizer(num_words=num_words, oov_token=oov_token)\n",
        "    \n",
        "    # fit the tokenizer to the training sentences\n",
        "    tokenizer.fit_on_texts(train_sentences)\n",
        "    \n",
        "    return tokenizer"
      ],
      "metadata": {
        "id": "eIbRsLzAQUVL"
      },
      "execution_count": 17,
      "outputs": []
    },
    {
      "cell_type": "markdown",
      "source": [
        "Now, let's call the `fit_tokenizer()` method to fit the `Tokenizer` to the training sentences."
      ],
      "metadata": {
        "id": "SxH68ZoPREM2"
      }
    },
    {
      "cell_type": "code",
      "source": [
        "# fit the Tokenizer\n",
        "tokenizer = fit_tokenizer(train_sentences, NUM_WORDS, OOV_TOKEN)\n",
        "\n",
        "# get word_index\n",
        "word_index = tokenizer.word_index\n",
        "\n",
        "print(f\"Number of words in the vocabulary: {len(word_index)}\\n\")"
      ],
      "metadata": {
        "colab": {
          "base_uri": "https://localhost:8080/"
        },
        "id": "ke3gXjaeRHpS",
        "outputId": "c4322628-1946-4ce3-eb43-bd57ca95d965"
      },
      "execution_count": 18,
      "outputs": [
        {
          "output_type": "stream",
          "name": "stdout",
          "text": [
            "Number of words in the vocabulary: 22647\n",
            "\n"
          ]
        }
      ]
    },
    {
      "cell_type": "markdown",
      "source": [
        "Since we already tokenize the traning sentences, now, let's define and run the following `seq_and_pad()` method to convert each text data point into its padded sequence representation."
      ],
      "metadata": {
        "id": "7OIA4oS8S03D"
      }
    },
    {
      "cell_type": "code",
      "source": [
        "def seq_and_pad(sentences, tokenizer, padding, maxlen):       \n",
        "    # convert training sentences to sequences\n",
        "    sequences = tokenizer.texts_to_sequences(sentences)\n",
        "    \n",
        "    # pad the sequences using the correct padding and maxlen\n",
        "    padded_sequences = pad_sequences(sequences, \n",
        "                                     maxlen=maxlen, \n",
        "                                     padding=padding, \n",
        "                                     truncating='post')\n",
        "    \n",
        "    return padded_sequences"
      ],
      "metadata": {
        "id": "fmSxq-JQS7P8"
      },
      "execution_count": 19,
      "outputs": []
    },
    {
      "cell_type": "markdown",
      "source": [
        "Run the `seq_and_pad()` method and get the padded training sequences."
      ],
      "metadata": {
        "id": "hVbBEQ4dVoUM"
      }
    },
    {
      "cell_type": "code",
      "source": [
        "train_padded_seq = seq_and_pad(train_sentences, tokenizer, PADDING, MAXLEN)\n",
        "val_padded_seq = seq_and_pad(val_sentences, tokenizer, PADDING, MAXLEN)\n",
        "\n",
        "print(f\"Shape of padded training sequences: {train_padded_seq.shape}\\n\")\n",
        "print(f\"Shape of padded validation sequences: {val_padded_seq.shape}\")"
      ],
      "metadata": {
        "colab": {
          "base_uri": "https://localhost:8080/"
        },
        "id": "zVIFiSDHS-8r",
        "outputId": "bfa8988d-3809-44ba-e879-e61a8eb79162"
      },
      "execution_count": 20,
      "outputs": [
        {
          "output_type": "stream",
          "name": "stdout",
          "text": [
            "Shape of padded training sequences: (1192, 120)\n",
            "\n",
            "Shape of padded validation sequences: (298, 120)\n"
          ]
        }
      ]
    },
    {
      "cell_type": "markdown",
      "source": [
        "Finally, we need to tokenize the labels. Let's define the `tokenize_labels()` method to achieve our goal."
      ],
      "metadata": {
        "id": "EaaK3YsmWHBe"
      }
    },
    {
      "cell_type": "code",
      "source": [
        "def tokenize_labels(all_labels, split_labels):    \n",
        "    # instantiate the Tokenizer\n",
        "    label_tokenizer = Tokenizer()\n",
        "    \n",
        "    # fit the tokenizer on all the labels\n",
        "    label_tokenizer.fit_on_texts(all_labels)\n",
        "\n",
        "    '''\n",
        "    Note: we should fit the tokenizer to all the labels to avoid \n",
        "    the case of a particular label not being present in the validation set\n",
        "    '''\n",
        "\n",
        "    # convert labels to sequences\n",
        "    label_seq = label_tokenizer.texts_to_sequences(split_labels)\n",
        "    \n",
        "    # convert sequences to a numpy array. \n",
        "    # note: we substact 1 from every entry in the array because \n",
        "    # Tokenizer yields values that start at 1 rather than at 0\n",
        "    label_seq_np = np.array(label_seq)-1\n",
        "\n",
        "    return label_seq_np"
      ],
      "metadata": {
        "id": "gb9_oBfnTJsD"
      },
      "execution_count": 21,
      "outputs": []
    },
    {
      "cell_type": "markdown",
      "source": [
        "Call the `tokenizer_labels()` method to tokenize the labels and convert into numpy arrays."
      ],
      "metadata": {
        "id": "JNAjxFoDYIHp"
      }
    },
    {
      "cell_type": "code",
      "source": [
        "train_label_seq = tokenize_labels(labels, train_labels)\n",
        "val_label_seq = tokenize_labels(labels, val_labels)\n",
        "\n",
        "print(f\"Shape of tokenized labels of the training set: {train_label_seq.shape}\\n\")\n",
        "print(f\"Shape of tokenized labels of the validation set: {val_label_seq.shape}\\n\")\n",
        "print(f\"First 5 labels of the training set:\\n{train_label_seq[:5]}\\n\")\n",
        "print(f\"First 5 labels of the validation set:\\n{val_label_seq[:5]}\\n\")"
      ],
      "metadata": {
        "colab": {
          "base_uri": "https://localhost:8080/"
        },
        "id": "tHq3OjVbTNOV",
        "outputId": "e2a90d70-e670-41da-c4c4-c8af7be1cf61"
      },
      "execution_count": 22,
      "outputs": [
        {
          "output_type": "stream",
          "name": "stdout",
          "text": [
            "Shape of tokenized labels of the training set: (1192, 1)\n",
            "\n",
            "Shape of tokenized labels of the validation set: (298, 1)\n",
            "\n",
            "First 5 labels of the training set:\n",
            "[[1]\n",
            " [1]\n",
            " [1]\n",
            " [4]\n",
            " [1]]\n",
            "\n",
            "First 5 labels of the validation set:\n",
            "[[3]\n",
            " [3]\n",
            " [2]\n",
            " [1]\n",
            " [4]]\n",
            "\n"
          ]
        }
      ]
    },
    {
      "cell_type": "markdown",
      "source": [
        "## Text classification model\n",
        "\n",
        "Our training data is already prepared to be fed into a deep neural network that will work as a text classifier to classify each news article as part of being a certain category. \n",
        "\n",
        "Now, it's time to define our model. Let's define the model architecture by completing the following `model()` method."
      ],
      "metadata": {
        "id": "w_YW_CV_Y6qC"
      }
    },
    {
      "cell_type": "code",
      "source": [
        "def model(num_words, embedding_dim, maxlen, lstm1_dim, lstm2_dim, num_categories):\n",
        "    tf.random.set_seed(123)\n",
        "    \n",
        "    model = tf.keras.Sequential([ \n",
        "        tf.keras.layers.Embedding(num_words, embedding_dim, input_length=maxlen),\n",
        "        tf.keras.layers.Bidirectional(tf.keras.layers.LSTM(lstm1_dim, return_sequences=True)),\n",
        "        tf.keras.layers.Bidirectional(tf.keras.layers.LSTM(lstm2_dim)),\n",
        "        tf.keras.layers.Dense(num_categories, activation='softmax')\n",
        "    ])\n",
        "    \n",
        "    model.compile(loss='sparse_categorical_crossentropy',\n",
        "                  optimizer='adam',\n",
        "                  metrics=['accuracy']) \n",
        "\n",
        "    return model"
      ],
      "metadata": {
        "id": "WCOLCAn9ZGgH"
      },
      "execution_count": 28,
      "outputs": []
    },
    {
      "cell_type": "markdown",
      "source": [
        "Before generating the model using `model()`, let's find out how many unique categories the training dataset have."
      ],
      "metadata": {
        "id": "GCURzShjdNGx"
      }
    },
    {
      "cell_type": "code",
      "source": [
        "num_unique_categories = np.unique(labels)\n",
        "print(f'Number of unique categories in the training dataset: {len(num_unique_categories)}')"
      ],
      "metadata": {
        "colab": {
          "base_uri": "https://localhost:8080/"
        },
        "id": "Kf5GKwXYdXlR",
        "outputId": "e8a8c1fb-ce31-4f66-b436-9be63b10df6b"
      },
      "execution_count": 24,
      "outputs": [
        {
          "output_type": "stream",
          "name": "stdout",
          "text": [
            "Number of unique categories in the training dataset: 5\n"
          ]
        }
      ]
    },
    {
      "cell_type": "markdown",
      "source": [
        "Now, let's create the model first."
      ],
      "metadata": {
        "id": "GwFADViYeLHV"
      }
    },
    {
      "cell_type": "code",
      "source": [
        "# set LSTM dimensions\n",
        "lstm1_dim = 32\n",
        "lstm2_dim = 16\n",
        "\n",
        "# create the model\n",
        "model = model(NUM_WORDS, EMBEDDING_DIM, MAXLEN, lstm1_dim, lstm2_dim, len(num_unique_categories))\n",
        "\n",
        "print(f'\\nModel Summary: {model.summary()}')"
      ],
      "metadata": {
        "colab": {
          "base_uri": "https://localhost:8080/"
        },
        "id": "bXBqq-vGegQ1",
        "outputId": "6428180f-cb48-4d9f-fea2-8baef62e944a"
      },
      "execution_count": 29,
      "outputs": [
        {
          "output_type": "stream",
          "name": "stdout",
          "text": [
            "Model: \"sequential_1\"\n",
            "_________________________________________________________________\n",
            " Layer (type)                Output Shape              Param #   \n",
            "=================================================================\n",
            " embedding_1 (Embedding)     (None, 120, 16)           16000     \n",
            "                                                                 \n",
            " bidirectional_2 (Bidirectio  (None, 120, 64)          12544     \n",
            " nal)                                                            \n",
            "                                                                 \n",
            " bidirectional_3 (Bidirectio  (None, 32)               10368     \n",
            " nal)                                                            \n",
            "                                                                 \n",
            " dense_1 (Dense)             (None, 5)                 165       \n",
            "                                                                 \n",
            "=================================================================\n",
            "Total params: 39,077\n",
            "Trainable params: 39,077\n",
            "Non-trainable params: 0\n",
            "_________________________________________________________________\n",
            "\n",
            "Model Summary: None\n"
          ]
        }
      ]
    },
    {
      "cell_type": "markdown",
      "source": [
        "And train the model with prepared training datasets."
      ],
      "metadata": {
        "id": "5WB6II_mlZ1f"
      }
    },
    {
      "cell_type": "code",
      "source": [
        "# train the model\n",
        "history = model.fit(train_padded_seq, train_label_seq, epochs=30, validation_data=(val_padded_seq, val_label_seq))"
      ],
      "metadata": {
        "id": "_yLvJmXTljZg",
        "colab": {
          "base_uri": "https://localhost:8080/"
        },
        "outputId": "058b135d-33a7-4b5b-8f2f-e0cb32819603"
      },
      "execution_count": 30,
      "outputs": [
        {
          "output_type": "stream",
          "name": "stdout",
          "text": [
            "Epoch 1/30\n",
            "38/38 [==============================] - 20s 294ms/step - loss: 1.5957 - accuracy: 0.2357 - val_loss: 1.5814 - val_accuracy: 0.2013\n",
            "Epoch 2/30\n",
            "38/38 [==============================] - 9s 250ms/step - loss: 1.3992 - accuracy: 0.3482 - val_loss: 1.2496 - val_accuracy: 0.4966\n",
            "Epoch 3/30\n",
            "38/38 [==============================] - 8s 211ms/step - loss: 1.2527 - accuracy: 0.4673 - val_loss: 1.2724 - val_accuracy: 0.3758\n",
            "Epoch 4/30\n",
            "38/38 [==============================] - 10s 248ms/step - loss: 1.1001 - accuracy: 0.4933 - val_loss: 1.1029 - val_accuracy: 0.5503\n",
            "Epoch 5/30\n",
            "38/38 [==============================] - 9s 240ms/step - loss: 0.9384 - accuracy: 0.5889 - val_loss: 0.9557 - val_accuracy: 0.6342\n",
            "Epoch 6/30\n",
            "38/38 [==============================] - 8s 205ms/step - loss: 0.7589 - accuracy: 0.7257 - val_loss: 0.9338 - val_accuracy: 0.6275\n",
            "Epoch 7/30\n",
            "38/38 [==============================] - 9s 238ms/step - loss: 0.5764 - accuracy: 0.7886 - val_loss: 0.7055 - val_accuracy: 0.6678\n",
            "Epoch 8/30\n",
            "38/38 [==============================] - 9s 241ms/step - loss: 0.4613 - accuracy: 0.8146 - val_loss: 0.5501 - val_accuracy: 0.8356\n",
            "Epoch 9/30\n",
            "38/38 [==============================] - 8s 204ms/step - loss: 0.3854 - accuracy: 0.8767 - val_loss: 0.5430 - val_accuracy: 0.8591\n",
            "Epoch 10/30\n",
            "38/38 [==============================] - 10s 258ms/step - loss: 0.3173 - accuracy: 0.9128 - val_loss: 0.6034 - val_accuracy: 0.7987\n",
            "Epoch 11/30\n",
            "38/38 [==============================] - 9s 247ms/step - loss: 0.3082 - accuracy: 0.8993 - val_loss: 0.5283 - val_accuracy: 0.8322\n",
            "Epoch 12/30\n",
            "38/38 [==============================] - 8s 202ms/step - loss: 0.2661 - accuracy: 0.9262 - val_loss: 0.4195 - val_accuracy: 0.8792\n",
            "Epoch 13/30\n",
            "38/38 [==============================] - 9s 248ms/step - loss: 0.2098 - accuracy: 0.9371 - val_loss: 0.6104 - val_accuracy: 0.7685\n",
            "Epoch 14/30\n",
            "38/38 [==============================] - 10s 253ms/step - loss: 0.2007 - accuracy: 0.9413 - val_loss: 0.5132 - val_accuracy: 0.8557\n",
            "Epoch 15/30\n",
            "38/38 [==============================] - 8s 213ms/step - loss: 0.1997 - accuracy: 0.9379 - val_loss: 0.4697 - val_accuracy: 0.8557\n",
            "Epoch 16/30\n",
            "38/38 [==============================] - 9s 243ms/step - loss: 0.1459 - accuracy: 0.9564 - val_loss: 0.3487 - val_accuracy: 0.8993\n",
            "Epoch 17/30\n",
            "38/38 [==============================] - 9s 250ms/step - loss: 0.0670 - accuracy: 0.9891 - val_loss: 0.3242 - val_accuracy: 0.9128\n",
            "Epoch 18/30\n",
            "38/38 [==============================] - 8s 206ms/step - loss: 0.0715 - accuracy: 0.9841 - val_loss: 0.3412 - val_accuracy: 0.9060\n",
            "Epoch 19/30\n",
            "38/38 [==============================] - 10s 259ms/step - loss: 0.0515 - accuracy: 0.9916 - val_loss: 0.3338 - val_accuracy: 0.9094\n",
            "Epoch 20/30\n",
            "38/38 [==============================] - 10s 253ms/step - loss: 0.0471 - accuracy: 0.9908 - val_loss: 0.3893 - val_accuracy: 0.8926\n",
            "Epoch 21/30\n",
            "38/38 [==============================] - 9s 242ms/step - loss: 0.0307 - accuracy: 0.9958 - val_loss: 0.3445 - val_accuracy: 0.9094\n",
            "Epoch 22/30\n",
            "38/38 [==============================] - 8s 211ms/step - loss: 0.0286 - accuracy: 0.9966 - val_loss: 0.3725 - val_accuracy: 0.9060\n",
            "Epoch 23/30\n",
            "38/38 [==============================] - 9s 252ms/step - loss: 0.0567 - accuracy: 0.9841 - val_loss: 0.3907 - val_accuracy: 0.8893\n",
            "Epoch 24/30\n",
            "38/38 [==============================] - 9s 246ms/step - loss: 0.0512 - accuracy: 0.9899 - val_loss: 0.2852 - val_accuracy: 0.9262\n",
            "Epoch 25/30\n",
            "38/38 [==============================] - 8s 209ms/step - loss: 0.0403 - accuracy: 0.9950 - val_loss: 0.3134 - val_accuracy: 0.9195\n",
            "Epoch 26/30\n",
            "38/38 [==============================] - 9s 245ms/step - loss: 0.0210 - accuracy: 0.9983 - val_loss: 0.3025 - val_accuracy: 0.9329\n",
            "Epoch 27/30\n",
            "38/38 [==============================] - 10s 262ms/step - loss: 0.0187 - accuracy: 0.9983 - val_loss: 0.3189 - val_accuracy: 0.9295\n",
            "Epoch 28/30\n",
            "38/38 [==============================] - 8s 211ms/step - loss: 0.0130 - accuracy: 0.9992 - val_loss: 0.3249 - val_accuracy: 0.9228\n",
            "Epoch 29/30\n",
            "38/38 [==============================] - 9s 250ms/step - loss: 0.0147 - accuracy: 0.9983 - val_loss: 0.3136 - val_accuracy: 0.9295\n",
            "Epoch 30/30\n",
            "38/38 [==============================] - 10s 252ms/step - loss: 0.0280 - accuracy: 0.9950 - val_loss: 0.3361 - val_accuracy: 0.9329\n"
          ]
        }
      ]
    },
    {
      "cell_type": "markdown",
      "source": [
        "## Evaluating Model Training\n",
        "\n",
        "Now, let check how the model performed during the training process. "
      ],
      "metadata": {
        "id": "dZXlBnZ1gwbf"
      }
    },
    {
      "cell_type": "code",
      "source": [
        "def evaluate_model(history):\n",
        "    # Check how accracy and loss changes over the training epochs\n",
        "\n",
        "    epoch_accuracy = history.history['accuracy']\n",
        "    epoch_val_accuracy = history.history['val_accuracy']\n",
        "    epoch_loss = history.history['loss']\n",
        "    epoch_val_loss = history.history['val_loss']\n",
        "    \n",
        "    plt.figure(figsize=(20, 6))\n",
        "\n",
        "    plt.subplot(1, 2, 1)\n",
        "    plt.plot(range(0, len(epoch_accuracy)), epoch_accuracy, 'b-', linewidth=2, label='Training Accuracy')\n",
        "    plt.plot(range(0, len(epoch_val_accuracy)), epoch_val_accuracy, 'r-', linewidth=2, label='Validation Accuracy')\n",
        "    plt.title('Training & validation accuracy over epochs')\n",
        "    plt.xlabel('Epoch')\n",
        "    plt.ylabel('Accuracy')\n",
        "    plt.legend(loc='best')\n",
        "\n",
        "    plt.subplot(1, 2, 2)\n",
        "    plt.plot(range(0, len(epoch_loss)), epoch_loss, 'b-', linewidth=2, label='Training Loss')\n",
        "    plt.plot(range(0, len(epoch_val_loss)), epoch_val_loss, 'r-', linewidth=2, label='Validation Loss')\n",
        "    plt.title('Training & validation loss over epochs')\n",
        "    plt.xlabel('Epoch')\n",
        "    plt.ylabel('Loss')\n",
        "    plt.legend(loc='best')\n",
        "\n",
        "    plt.show()"
      ],
      "metadata": {
        "id": "YOrgrYhBhgR2"
      },
      "execution_count": 31,
      "outputs": []
    },
    {
      "cell_type": "code",
      "source": [
        "# check how accuract & loss changes over epochs during the training process\n",
        "evaluate_model(history)"
      ],
      "metadata": {
        "colab": {
          "base_uri": "https://localhost:8080/",
          "height": 384
        },
        "id": "-4KWu0phjF2H",
        "outputId": "c7662955-7120-4f39-9f1b-98339a9bdf4b"
      },
      "execution_count": 32,
      "outputs": [
        {
          "output_type": "display_data",
          "data": {
            "text/plain": [
              "<Figure size 2000x600 with 2 Axes>"
            ],
            "image/png": "[encoded data removed]"
          },
          "metadata": {}
        }
      ]
    },
    {
      "cell_type": "markdown",
      "source": [
        "## Prediction\n",
        "\n",
        "Now that our model is successfully trained, let's check how it performs for the test prediction tasks. Before performing prediction task, we need to preprocess our test dataset.\n",
        "\n",
        "Let's start with the removal of stopwords from test dataset first."
      ],
      "metadata": {
        "id": "r2GJtxUBp2ng"
      }
    },
    {
      "cell_type": "code",
      "source": [
        "def parse_test_data_from_file(filename):\n",
        "    # lists to include texts from articles\n",
        "    test_sentences = []\n",
        "\n",
        "    with open(filename, 'r') as csvfile:\n",
        "        reader = csv.reader(csvfile, delimiter=',')\n",
        "        next(reader) # skipping the header row\n",
        "\n",
        "        for row in reader:\n",
        "            # add the texts of a news article into the 'test_sentences' list\n",
        "            sentence = row[1]\n",
        "            sentence = remove_stopwords(sentence)\n",
        "            test_sentences.append(sentence)\n",
        "\n",
        "    return test_sentences\n",
        "\n",
        "# call the parse_test_data_from_file() method with the path of the testing set\n",
        "test_sentences = parse_test_data_from_file(\"/content/data/BBC News Test.csv\")\n",
        "\n",
        "print(f\"Number of sentences in the test dataset: {len(test_sentences)}\\n\")\n",
        "print(f\"Number of words in the 1st sentence (after removing stopwords). {len(test_sentences[0].split())}\\n\")"
      ],
      "metadata": {
        "colab": {
          "base_uri": "https://localhost:8080/"
        },
        "id": "lx55wr2lqTJ2",
        "outputId": "dcf6c7e4-6ea1-4b2c-fd09-137ea0fb08a6"
      },
      "execution_count": 35,
      "outputs": [
        {
          "output_type": "stream",
          "name": "stdout",
          "text": [
            "Number of sentences in the test dataset: 735\n",
            "\n",
            "Number of words in the 1st sentence (after removing stopwords). 98\n",
            "\n"
          ]
        }
      ]
    },
    {
      "cell_type": "markdown",
      "source": [
        "After removing stopwords from the test dataset, we must convert the sentences to the token sequences and later to the padded sequences. We can use the same `fit_tokenizer()` and `seq_and_pad()` methods we used for training dataset to achieve our goal here."
      ],
      "metadata": {
        "id": "07rR9OU2s-Cx"
      }
    },
    {
      "cell_type": "code",
      "source": [
        "# fit the Tokenizer for the test dataset\n",
        "test_tokenizer = fit_tokenizer(test_sentences, NUM_WORDS, OOV_TOKEN)\n",
        "\n",
        "# get word_index\n",
        "test_word_index = test_tokenizer.word_index\n",
        "\n",
        "test_padded_seq = seq_and_pad(test_sentences, test_tokenizer, PADDING, MAXLEN)\n",
        "\n",
        "print(f\"Number of words in the test vocabulary: {len(test_word_index)}\\n\")\n",
        "print(f\"Shape of padded training sequences: {test_padded_seq.shape}\\n\")"
      ],
      "metadata": {
        "colab": {
          "base_uri": "https://localhost:8080/"
        },
        "id": "XDy78lJIszpq",
        "outputId": "650a3190-0b91-412a-ac0a-394ea68ea618"
      },
      "execution_count": 36,
      "outputs": [
        {
          "output_type": "stream",
          "name": "stdout",
          "text": [
            "Number of words in the test vocabulary: 18598\n",
            "\n",
            "Shape of padded training sequences: (735, 120)\n",
            "\n"
          ]
        }
      ]
    },
    {
      "cell_type": "markdown",
      "source": [
        "#### Now, let's make prediction on the test dataset."
      ],
      "metadata": {
        "id": "F8lYa2hOuaJN"
      }
    },
    {
      "cell_type": "code",
      "source": [
        "# make predictions (categories) on the test data\n",
        "predictions = model.predict(test_padded_seq)"
      ],
      "metadata": {
        "colab": {
          "base_uri": "https://localhost:8080/"
        },
        "id": "GTo3nEcIug3L",
        "outputId": "a52e98de-43a8-4f42-8676-3eb14f8512c0"
      },
      "execution_count": 37,
      "outputs": [
        {
          "output_type": "stream",
          "name": "stdout",
          "text": [
            "23/23 [==============================] - 3s 46ms/step\n"
          ]
        }
      ]
    },
    {
      "cell_type": "code",
      "source": [
        "# Get the class with the highest probability for each input sentence\n",
        "predicted_classes = predictions.argmax(axis=1)\n",
        "print(f'Predicted classes:\\n\\n {predicted_classes}')"
      ],
      "metadata": {
        "colab": {
          "base_uri": "https://localhost:8080/"
        },
        "id": "y6O63OxNwvxC",
        "outputId": "3899c669-320f-4582-836b-645fe9187fa6"
      },
      "execution_count": 47,
      "outputs": [
        {
          "output_type": "stream",
          "name": "stdout",
          "text": [
            "Predicted classes:\n",
            "\n",
            " [4 0 3 1 2 3 4 1 3 3 4 1 2 2 1 0 1 3 4 0 3 1 2 1 4 3 2 3 4 2 4 4 1 4 3 3 4\n",
            " 4 3 4 2 0 4 2 4 4 1 4 2 1 1 1 0 0 4 3 1 1 4 0 2 0 4 2 0 3 3 3 2 2 2 4 1 3\n",
            " 4 1 4 3 2 3 3 2 4 4 4 0 2 3 2 3 1 2 2 0 3 1 2 4 1 3 1 1 4 3 2 3 3 4 3 4 0\n",
            " 3 0 3 3 2 4 3 2 1 3 1 0 4 0 2 2 4 3 3 3 2 2 1 2 2 3 2 2 3 4 3 3 3 4 3 4 0\n",
            " 4 1 1 3 4 0 1 1 1 4 4 2 4 0 1 0 1 0 4 0 4 3 0 3 3 3 4 1 4 3 1 0 4 4 4 3 0\n",
            " 4 3 2 1 4 0 3 4 4 2 3 3 0 0 1 2 0 1 3 2 4 2 4 3 2 2 2 3 3 4 3 1 4 2 3 2 3\n",
            " 3 4 4 0 3 4 2 4 2 3 4 2 0 0 0 4 3 4 1 0 1 4 3 2 2 2 1 4 2 2 4 0 4 4 3 0 1\n",
            " 0 2 1 0 0 3 2 0 4 4 3 3 2 1 2 0 1 2 3 3 2 1 4 3 1 3 3 2 0 3 3 2 1 4 1 2 0\n",
            " 0 4 0 0 1 3 2 2 4 4 4 3 0 4 4 4 2 2 0 4 0 2 4 3 4 0 4 4 1 1 4 1 0 4 3 4 3\n",
            " 4 1 2 1 4 4 1 3 4 3 4 0 3 0 1 3 1 2 1 1 3 4 1 1 3 3 1 3 3 2 1 1 0 3 0 3 4\n",
            " 1 2 3 2 4 1 4 4 3 2 0 4 4 2 4 2 3 4 3 4 3 2 0 3 2 4 0 2 2 4 2 0 3 0 3 4 4\n",
            " 4 2 4 4 3 1 2 0 4 3 3 3 4 3 2 1 0 4 0 1 2 2 3 0 4 4 0 3 4 4 3 2 1 0 4 4 4\n",
            " 4 0 0 2 2 4 1 2 3 2 2 3 3 3 1 4 1 4 3 4 2 4 2 3 3 2 1 2 2 2 1 3 4 1 4 4 2\n",
            " 0 4 3 3 4 2 4 2 4 2 4 2 3 4 0 4 3 3 3 0 1 2 0 2 1 2 4 0 1 3 4 1 4 1 2 1 0\n",
            " 0 4 0 0 0 4 4 0 2 3 1 1 2 0 0 1 0 2 0 4 3 0 4 2 4 3 4 1 1 2 2 2 4 1 0 1 1\n",
            " 4 2 3 0 1 4 2 4 2 1 4 1 0 4 4 2 3 0 2 1 2 1 0 4 4 4 2 4 2 2 0 4 4 1 1 3 4\n",
            " 0 3 0 4 3 3 0 3 2 2 4 3 2 2 2 0 2 4 3 4 1 0 3 2 4 3 1 3 3 3 4 1 2 2 4 0 2\n",
            " 4 3 4 2 1 4 1 1 4 4 2 4 2 2 2 3 3 4 4 1 0 0 2 4 2 1 4 1 3 4 2 1 4 0 3 1 0\n",
            " 3 2 3 4 3 3 0 0 4 3 2 0 4 1 4 1 3 3 0 3 1 4 2 4 0 3 0 4 0 0 4 4 0 0 3 4 2\n",
            " 4 4 0 2 4 2 4 3 1 2 0 0 4 0 3 4 0 0 4 1 2 4 1 3 4 4 1 3 4 1 3 4]\n"
          ]
        }
      ]
    }
  ]
}